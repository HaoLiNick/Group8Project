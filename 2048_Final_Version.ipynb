{
 "cells": [
  {
   "cell_type": "code",
   "execution_count": 1,
   "metadata": {},
   "outputs": [],
   "source": [
    "##We only need one package to finish our game!KISS!##\n",
    "from random import *"
   ]
  },
  {
   "cell_type": "code",
   "execution_count": 2,
   "metadata": {},
   "outputs": [],
   "source": [
    "##Initial Matrix##\n",
    "def initial_matrix():\n",
    "    return [[0,0,0,0] for i in range(4)]"
   ]
  },
  {
   "cell_type": "code",
   "execution_count": 3,
   "metadata": {},
   "outputs": [],
   "source": [
    "##Pop out 2##\n",
    "def pop2(matrix):\n",
    "    row=randint(0,3)\n",
    "    col=randint(0,3)\n",
    "    while(matrix[row][col]!=0):\n",
    "        row=randint(0,3)\n",
    "        col=randint(0,3)\n",
    "    matrix[row][col]=2\n",
    "    #return matrix"
   ]
  },
  {
   "cell_type": "code",
   "execution_count": 4,
   "metadata": {},
   "outputs": [],
   "source": [
    "##Pop out 4##\n",
    "def pop4(matrix):\n",
    "    row=randint(0,3)\n",
    "    col=randint(0,3)\n",
    "    while(matrix[row][col]!=0):\n",
    "        row=randint(0,3)\n",
    "        col=randint(0,3)\n",
    "    matrix[row][col]=4\n",
    "    #return matrix"
   ]
  },
  {
   "cell_type": "code",
   "execution_count": 5,
   "metadata": {},
   "outputs": [],
   "source": [
    "def decide2or4(matrix):\n",
    "    if randint(0,1)==1:\n",
    "        pop2(matrix)\n",
    "    else:\n",
    "        pop4(matrix)"
   ]
  },
  {
   "cell_type": "code",
   "execution_count": 6,
   "metadata": {},
   "outputs": [],
   "source": [
    "def display(v):\n",
    "        print('{0:4} {1:4} {2:4} {3:4}'.format(v[0][0], v[0][1], v[0][2], v[0][3]))\n",
    "        print('{0:4} {1:4} {2:4} {3:4}'.format(v[1][0], v[1][1], v[1][2], v[1][3]))\n",
    "        print('{0:4} {1:4} {2:4} {3:4}'.format(v[2][0], v[2][1], v[2][2], v[2][3]))\n",
    "        print('{0:4} {1:4} {2:4} {3:4}'.format(v[3][0], v[3][1], v[3][2], v[3][3]))"
   ]
  },
  {
   "cell_type": "code",
   "execution_count": 7,
   "metadata": {},
   "outputs": [],
   "source": [
    "##Game Results Before the Next Move##\n",
    "\n",
    "\"\"\"There are only 3 results before the next move,\n",
    "   They are won, lost, TBD.\n",
    "   The game_state function check for the result before \n",
    "   the next move, returning the results\"\"\"\n",
    "\n",
    "def game_results_before_next(matrix):\n",
    "    \n",
    "    #check for winning\n",
    "    for i in range(4):\n",
    "        for j in range(4):\n",
    "            if matrix[i][j]==2048:\n",
    "                return \"Win\"\n",
    "    \n",
    "    #check for TBD:\n",
    "        # 1) if there is still a zero box, not yet\n",
    "    for i in range(4):\n",
    "        for j in range(4):\n",
    "            if matrix[i][j]==0:\n",
    "                return \"TBD\"\n",
    "        \n",
    "        # 2) if there are same number above,or on the right, not yet\n",
    "    for i in range(3):\n",
    "        for j in range(3):\n",
    "            if matrix[i][j]==matrix[i+1][j] or matrix[i][j]==matrix[i][j+1]:\n",
    "                return \"TBD\"\n",
    "        \n",
    "        # 3) But the last row or col has not been checked in 2)\n",
    "            \n",
    "            #check for the last row:\n",
    "    for i in range(3):\n",
    "        if matrix[3][i]==matrix[3][i+1]:\n",
    "            return \"TBD\"\n",
    "        \n",
    "            #check for the last col:\n",
    "    for i in range(3):\n",
    "        if matrix[i][3]==matrix[i+1][3]:\n",
    "            return \"TBD\"\n",
    "        \n",
    "        # 4) check for losing\n",
    "    return \"Lose\""
   ]
  },
  {
   "cell_type": "code",
   "execution_count": 8,
   "metadata": {},
   "outputs": [],
   "source": [
    "def align(vList, direction):\n",
    "         # remove 0 from the row\n",
    "        for i in range(vList.count(0)):\n",
    "                vList.remove(0)\n",
    "        # the removed 0s\n",
    "        zeros = [0 for x in range(4 - len(vList))]\n",
    "        # replace those 0s in the right or left\n",
    "        if direction == 'left':\n",
    "                vList.extend(zeros)\n",
    "        else:\n",
    "                vList[:0] = zeros"
   ]
  },
  {
   "cell_type": "code",
   "execution_count": 9,
   "metadata": {},
   "outputs": [],
   "source": [
    "##Merge same number\n",
    "\"\"\"When merged, the first left/right block hits the block with the\n",
    "   same number, therefore the hit one becomes 2*left/right,\n",
    "   while the hitting one returns to 0\"\"\"\n",
    "def merge(vList,direction):\n",
    "    if direction=='left':\n",
    "        for i in [0,1,2]:\n",
    "            if vList[i]==vList[i+1]!=0:\n",
    "                vList[i]*=2\n",
    "                vList[i+1]=0\n",
    "                #return True\n",
    "    \n",
    "    else:\n",
    "        for i in [3,2,1]:\n",
    "            if vList[i] == vList[i-1] != 0:\n",
    "                vList[i-1] *= 2\n",
    "                vList[i] = 0\n",
    "                #return True\n",
    "    #return False"
   ]
  },
  {
   "cell_type": "code",
   "execution_count": 10,
   "metadata": {},
   "outputs": [],
   "source": [
    "def handle(vList,direction):\n",
    "    merge(vList,direction)\n",
    "    align(vList,direction)"
   ]
  },
  {
   "cell_type": "code",
   "execution_count": 11,
   "metadata": {},
   "outputs": [],
   "source": [
    "\"\"\"\n",
    "This is the user operation function:\n",
    "users can type 'w', 'a', 's', 'd' to control the moving direction \n",
    "The left and right directions have been well constructed in the previous handle function.\n",
    "The trick here is in the up and down direction. And our solution is to first transpose\n",
    "our game matrix, and if it'an up command, we use the left method (if down then right) and \n",
    "finally we operate again the transpose. This trick is inspired by another 2048 kernel,\n",
    "but the coding is original.\n",
    "\"\"\"\n",
    "\n",
    "def operation(matrix):\n",
    "\n",
    "    op=input('Operation:')\n",
    "           \n",
    "    if op =='a':\n",
    "        direction='left'\n",
    "        for row in range(4):\n",
    "            handle(matrix[row],direction)\n",
    "\n",
    "    if op=='d':\n",
    "        direction='right'\n",
    "        for row in range(4):\n",
    "            handle(matrix[row],direction)\n",
    "\n",
    "    if op=='w':\n",
    "        temp=list(map(list,list(zip(*matrix))))\n",
    "        direction='left'\n",
    "        for i in range(4):\n",
    "            handle(temp[i],direction)\n",
    "\n",
    "        temp2=list(zip(*temp))       \n",
    "        for i in range(4):\n",
    "            for j in range(4):\n",
    "                matrix[i][j]=temp2[i][j]\n",
    "\n",
    "    if op=='s':\n",
    "        temp=list(map(list,list(zip(*matrix))))\n",
    "        direction='right'\n",
    "        for i in range(4):\n",
    "            handle(temp[i],direction)\n",
    "\n",
    "        temp2=list(zip(*temp))\n",
    "        for i in range(4):\n",
    "            for j in range(4):\n",
    "                matrix[i][j]=temp2[i][j]\n"
   ]
  },
  {
   "cell_type": "code",
   "execution_count": 12,
   "metadata": {},
   "outputs": [],
   "source": [
    "def main():\n",
    "    game=initial_matrix()\n",
    "    for i in range(5):\n",
    "        decide2or4(game)\n",
    "    display(game)\n",
    "    \n",
    "    while True:\n",
    "        \n",
    "        if game_results_before_next(game)==\"Win\":\n",
    "            print(\"You Win!\")\n",
    "            break\n",
    "            \n",
    "        elif game_results_before_next(game)==\"Lose\":\n",
    "            print(\"You Lost!\")\n",
    "            break\n",
    "            \n",
    "        else:\n",
    "            operation(game)\n",
    "            decide2or4(game)\n",
    "            print()\n",
    "            display(game)"
   ]
  },
  {
   "cell_type": "code",
   "execution_count": 27,
   "metadata": {},
   "outputs": [
    {
     "name": "stdout",
     "output_type": "stream",
     "text": [
      "   0    2    0    0\n",
      "   0    0    4    0\n",
      "   0    0    0    4\n",
      "   2    4    0    0\n",
      "Operation:a\n",
      "\n",
      "   2    0    0    0\n",
      "   4    0    0    0\n",
      "   4    0    4    0\n",
      "   2    4    0    0\n",
      "Operation:a\n",
      "\n",
      "   2    0    0    4\n",
      "   4    0    0    0\n",
      "   4    4    0    0\n",
      "   2    4    0    0\n",
      "Operation:a\n",
      "\n",
      "   2    4    0    0\n",
      "   4    0    0    0\n",
      "   8    0    0    0\n",
      "   2    4    0    2\n",
      "Operation:d\n",
      "\n",
      "   0    0    2    4\n",
      "   0    4    0    4\n",
      "   0    0    0    8\n",
      "   0    2    4    2\n",
      "Operation:a\n",
      "\n",
      "   2    4    0    4\n",
      "   4    4    0    0\n",
      "   8    0    0    0\n",
      "   2    4    2    0\n",
      "Operation:w\n",
      "\n",
      "   2    8    2    4\n",
      "   4    4    0    0\n",
      "   8    0    0    0\n",
      "   2    0    4    0\n",
      "Operation:a\n",
      "\n",
      "   2    8    2    4\n",
      "   8    0    0    4\n",
      "   8    0    0    0\n",
      "   2    4    0    0\n",
      "Operation:s\n",
      "\n",
      "   0    4    0    0\n",
      "   2    0    0    0\n",
      "  16    8    0    0\n",
      "   2    4    2    8\n",
      "Operation:d\n",
      "\n",
      "   0    0    0    4\n",
      "   0    2    0    2\n",
      "   0    0   16    8\n",
      "   2    4    2    8\n"
     ]
    },
    {
     "ename": "KeyboardInterrupt",
     "evalue": "",
     "output_type": "error",
     "traceback": [
      "\u001b[0;31m---------------------------------------------------------------------------\u001b[0m",
      "\u001b[0;31mKeyboardInterrupt\u001b[0m                         Traceback (most recent call last)",
      "\u001b[0;32m/usr/local/lib/python3.6/site-packages/ipykernel/kernelbase.py\u001b[0m in \u001b[0;36m_input_request\u001b[0;34m(self, prompt, ident, parent, password)\u001b[0m\n\u001b[1;32m    856\u001b[0m             \u001b[0;32mtry\u001b[0m\u001b[0;34m:\u001b[0m\u001b[0;34m\u001b[0m\u001b[0m\n\u001b[0;32m--> 857\u001b[0;31m                 \u001b[0mident\u001b[0m\u001b[0;34m,\u001b[0m \u001b[0mreply\u001b[0m \u001b[0;34m=\u001b[0m \u001b[0mself\u001b[0m\u001b[0;34m.\u001b[0m\u001b[0msession\u001b[0m\u001b[0;34m.\u001b[0m\u001b[0mrecv\u001b[0m\u001b[0;34m(\u001b[0m\u001b[0mself\u001b[0m\u001b[0;34m.\u001b[0m\u001b[0mstdin_socket\u001b[0m\u001b[0;34m,\u001b[0m \u001b[0;36m0\u001b[0m\u001b[0;34m)\u001b[0m\u001b[0;34m\u001b[0m\u001b[0m\n\u001b[0m\u001b[1;32m    858\u001b[0m             \u001b[0;32mexcept\u001b[0m \u001b[0mException\u001b[0m\u001b[0;34m:\u001b[0m\u001b[0;34m\u001b[0m\u001b[0m\n",
      "\u001b[0;32m/usr/local/lib/python3.6/site-packages/jupyter_client/session.py\u001b[0m in \u001b[0;36mrecv\u001b[0;34m(self, socket, mode, content, copy)\u001b[0m\n\u001b[1;32m    802\u001b[0m         \u001b[0;32mtry\u001b[0m\u001b[0;34m:\u001b[0m\u001b[0;34m\u001b[0m\u001b[0m\n\u001b[0;32m--> 803\u001b[0;31m             \u001b[0mmsg_list\u001b[0m \u001b[0;34m=\u001b[0m \u001b[0msocket\u001b[0m\u001b[0;34m.\u001b[0m\u001b[0mrecv_multipart\u001b[0m\u001b[0;34m(\u001b[0m\u001b[0mmode\u001b[0m\u001b[0;34m,\u001b[0m \u001b[0mcopy\u001b[0m\u001b[0;34m=\u001b[0m\u001b[0mcopy\u001b[0m\u001b[0;34m)\u001b[0m\u001b[0;34m\u001b[0m\u001b[0m\n\u001b[0m\u001b[1;32m    804\u001b[0m         \u001b[0;32mexcept\u001b[0m \u001b[0mzmq\u001b[0m\u001b[0;34m.\u001b[0m\u001b[0mZMQError\u001b[0m \u001b[0;32mas\u001b[0m \u001b[0me\u001b[0m\u001b[0;34m:\u001b[0m\u001b[0;34m\u001b[0m\u001b[0m\n",
      "\u001b[0;32m/usr/local/lib/python3.6/site-packages/zmq/sugar/socket.py\u001b[0m in \u001b[0;36mrecv_multipart\u001b[0;34m(self, flags, copy, track)\u001b[0m\n\u001b[1;32m    466\u001b[0m         \"\"\"\n\u001b[0;32m--> 467\u001b[0;31m         \u001b[0mparts\u001b[0m \u001b[0;34m=\u001b[0m \u001b[0;34m[\u001b[0m\u001b[0mself\u001b[0m\u001b[0;34m.\u001b[0m\u001b[0mrecv\u001b[0m\u001b[0;34m(\u001b[0m\u001b[0mflags\u001b[0m\u001b[0;34m,\u001b[0m \u001b[0mcopy\u001b[0m\u001b[0;34m=\u001b[0m\u001b[0mcopy\u001b[0m\u001b[0;34m,\u001b[0m \u001b[0mtrack\u001b[0m\u001b[0;34m=\u001b[0m\u001b[0mtrack\u001b[0m\u001b[0;34m)\u001b[0m\u001b[0;34m]\u001b[0m\u001b[0;34m\u001b[0m\u001b[0m\n\u001b[0m\u001b[1;32m    468\u001b[0m         \u001b[0;31m# have first part already, only loop while more to receive\u001b[0m\u001b[0;34m\u001b[0m\u001b[0;34m\u001b[0m\u001b[0m\n",
      "\u001b[0;32mzmq/backend/cython/socket.pyx\u001b[0m in \u001b[0;36mzmq.backend.cython.socket.Socket.recv\u001b[0;34m()\u001b[0m\n",
      "\u001b[0;32mzmq/backend/cython/socket.pyx\u001b[0m in \u001b[0;36mzmq.backend.cython.socket.Socket.recv\u001b[0;34m()\u001b[0m\n",
      "\u001b[0;32mzmq/backend/cython/socket.pyx\u001b[0m in \u001b[0;36mzmq.backend.cython.socket._recv_copy\u001b[0;34m()\u001b[0m\n",
      "\u001b[0;32m/usr/local/lib/python3.6/site-packages/zmq/backend/cython/checkrc.pxd\u001b[0m in \u001b[0;36mzmq.backend.cython.checkrc._check_rc\u001b[0;34m()\u001b[0m\n",
      "\u001b[0;31mKeyboardInterrupt\u001b[0m: ",
      "\nDuring handling of the above exception, another exception occurred:\n",
      "\u001b[0;31mKeyboardInterrupt\u001b[0m                         Traceback (most recent call last)",
      "\u001b[0;32m<ipython-input-27-ec8b86d506aa>\u001b[0m in \u001b[0;36m<module>\u001b[0;34m\u001b[0m\n\u001b[1;32m      1\u001b[0m \u001b[0;32mif\u001b[0m \u001b[0m__name__\u001b[0m\u001b[0;34m==\u001b[0m \u001b[0;34m\"__main__\"\u001b[0m\u001b[0;34m:\u001b[0m\u001b[0;34m\u001b[0m\u001b[0m\n\u001b[0;32m----> 2\u001b[0;31m     \u001b[0mmain\u001b[0m\u001b[0;34m(\u001b[0m\u001b[0;34m)\u001b[0m\u001b[0;34m\u001b[0m\u001b[0m\n\u001b[0m",
      "\u001b[0;32m<ipython-input-26-ce9575c570b2>\u001b[0m in \u001b[0;36mmain\u001b[0;34m()\u001b[0m\n\u001b[1;32m     16\u001b[0m \u001b[0;34m\u001b[0m\u001b[0m\n\u001b[1;32m     17\u001b[0m         \u001b[0;32melse\u001b[0m\u001b[0;34m:\u001b[0m\u001b[0;34m\u001b[0m\u001b[0m\n\u001b[0;32m---> 18\u001b[0;31m             \u001b[0moperation\u001b[0m\u001b[0;34m(\u001b[0m\u001b[0mgame\u001b[0m\u001b[0;34m)\u001b[0m\u001b[0;34m\u001b[0m\u001b[0m\n\u001b[0m\u001b[1;32m     19\u001b[0m             \u001b[0mdecide2or4\u001b[0m\u001b[0;34m(\u001b[0m\u001b[0mgame\u001b[0m\u001b[0;34m)\u001b[0m\u001b[0;34m\u001b[0m\u001b[0m\n\u001b[1;32m     20\u001b[0m             \u001b[0mprint\u001b[0m\u001b[0;34m(\u001b[0m\u001b[0;34m)\u001b[0m\u001b[0;34m\u001b[0m\u001b[0m\n",
      "\u001b[0;32m<ipython-input-20-c20de4353539>\u001b[0m in \u001b[0;36moperation\u001b[0;34m(matrix)\u001b[0m\n\u001b[1;32m     11\u001b[0m \u001b[0;32mdef\u001b[0m \u001b[0moperation\u001b[0m\u001b[0;34m(\u001b[0m\u001b[0mmatrix\u001b[0m\u001b[0;34m)\u001b[0m\u001b[0;34m:\u001b[0m\u001b[0;34m\u001b[0m\u001b[0m\n\u001b[1;32m     12\u001b[0m \u001b[0;34m\u001b[0m\u001b[0m\n\u001b[0;32m---> 13\u001b[0;31m     \u001b[0mop\u001b[0m\u001b[0;34m=\u001b[0m\u001b[0minput\u001b[0m\u001b[0;34m(\u001b[0m\u001b[0;34m'Operation:'\u001b[0m\u001b[0;34m)\u001b[0m\u001b[0;34m\u001b[0m\u001b[0m\n\u001b[0m\u001b[1;32m     14\u001b[0m \u001b[0;34m\u001b[0m\u001b[0m\n\u001b[1;32m     15\u001b[0m     \u001b[0;32mif\u001b[0m \u001b[0mop\u001b[0m \u001b[0;34m==\u001b[0m\u001b[0;34m'a'\u001b[0m\u001b[0;34m:\u001b[0m\u001b[0;34m\u001b[0m\u001b[0m\n",
      "\u001b[0;32m/usr/local/lib/python3.6/site-packages/ipykernel/kernelbase.py\u001b[0m in \u001b[0;36mraw_input\u001b[0;34m(self, prompt)\u001b[0m\n\u001b[1;32m    830\u001b[0m             \u001b[0mself\u001b[0m\u001b[0;34m.\u001b[0m\u001b[0m_parent_ident\u001b[0m\u001b[0;34m,\u001b[0m\u001b[0;34m\u001b[0m\u001b[0m\n\u001b[1;32m    831\u001b[0m             \u001b[0mself\u001b[0m\u001b[0;34m.\u001b[0m\u001b[0m_parent_header\u001b[0m\u001b[0;34m,\u001b[0m\u001b[0;34m\u001b[0m\u001b[0m\n\u001b[0;32m--> 832\u001b[0;31m             \u001b[0mpassword\u001b[0m\u001b[0;34m=\u001b[0m\u001b[0;32mFalse\u001b[0m\u001b[0;34m,\u001b[0m\u001b[0;34m\u001b[0m\u001b[0m\n\u001b[0m\u001b[1;32m    833\u001b[0m         )\n\u001b[1;32m    834\u001b[0m \u001b[0;34m\u001b[0m\u001b[0m\n",
      "\u001b[0;32m/usr/local/lib/python3.6/site-packages/ipykernel/kernelbase.py\u001b[0m in \u001b[0;36m_input_request\u001b[0;34m(self, prompt, ident, parent, password)\u001b[0m\n\u001b[1;32m    860\u001b[0m             \u001b[0;32mexcept\u001b[0m \u001b[0mKeyboardInterrupt\u001b[0m\u001b[0;34m:\u001b[0m\u001b[0;34m\u001b[0m\u001b[0m\n\u001b[1;32m    861\u001b[0m                 \u001b[0;31m# re-raise KeyboardInterrupt, to truncate traceback\u001b[0m\u001b[0;34m\u001b[0m\u001b[0;34m\u001b[0m\u001b[0m\n\u001b[0;32m--> 862\u001b[0;31m                 \u001b[0;32mraise\u001b[0m \u001b[0mKeyboardInterrupt\u001b[0m\u001b[0;34m\u001b[0m\u001b[0m\n\u001b[0m\u001b[1;32m    863\u001b[0m             \u001b[0;32melse\u001b[0m\u001b[0;34m:\u001b[0m\u001b[0;34m\u001b[0m\u001b[0m\n\u001b[1;32m    864\u001b[0m                 \u001b[0;32mbreak\u001b[0m\u001b[0;34m\u001b[0m\u001b[0m\n",
      "\u001b[0;31mKeyboardInterrupt\u001b[0m: "
     ]
    }
   ],
   "source": [
    "if __name__== \"__main__\":\n",
    "    main()"
   ]
  },
  {
   "cell_type": "code",
   "execution_count": 13,
   "metadata": {},
   "outputs": [],
   "source": [
    "###BEGIN TEST\n",
    "test1=[2,0,0,4]\n",
    "direction=\"left\"\n",
    "align(test1,direction)\n",
    "assert test1 == [2, 4, 0, 0]\n",
    "###BEGIN TEST"
   ]
  },
  {
   "cell_type": "code",
   "execution_count": 14,
   "metadata": {},
   "outputs": [],
   "source": [
    "###BEGIN TEST\n",
    "test2=[2,2,0,0]\n",
    "direction=\"right\"\n",
    "align(test2,direction)\n",
    "assert test2 == [0, 0, 2, 2]\n",
    "###BEGIN TEST"
   ]
  },
  {
   "cell_type": "code",
   "execution_count": 15,
   "metadata": {},
   "outputs": [],
   "source": [
    "###BEGIN TEST\n",
    "test3=[2,4,4,4]\n",
    "direction=\"left\"\n",
    "merge(test3,direction)\n",
    "align(test3,direction)\n",
    "assert test3 == [2, 8, 4, 0]\n",
    "###BEGIN TEST"
   ]
  },
  {
   "cell_type": "code",
   "execution_count": 16,
   "metadata": {},
   "outputs": [],
   "source": [
    "###BEGIN TEST\n",
    "test4=[2,4,4,4]\n",
    "direction=\"right\"\n",
    "merge(test4,direction)\n",
    "align(test4,direction)\n",
    "assert test4 == [0, 2, 4, 8]\n",
    "###BEGIN TEST"
   ]
  },
  {
   "cell_type": "code",
   "execution_count": 17,
   "metadata": {},
   "outputs": [],
   "source": [
    "###BEGIN TEST\n",
    "test5=[2,2,4,0]\n",
    "direction=\"left\"\n",
    "handle(test5,direction)\n",
    "assert test5 == [4, 4, 0, 0]\n",
    "###BEGIN TEST"
   ]
  },
  {
   "cell_type": "code",
   "execution_count": 18,
   "metadata": {},
   "outputs": [],
   "source": [
    "###BEGIN TEST\n",
    "test6=[2,2,4,0]\n",
    "direction=\"right\"\n",
    "handle(test6,direction)\n",
    "assert test6 == [0, 0, 4, 4]\n",
    "###BEGIN TEST"
   ]
  },
  {
   "cell_type": "code",
   "execution_count": 19,
   "metadata": {},
   "outputs": [],
   "source": [
    "###BEGIN TEST\n",
    "test7=initial_matrix()\n",
    "for i in range(10):\n",
    "    decide2or4(test7)\n",
    "test_list = []\n",
    "for i in test7:\n",
    "    for a in i:\n",
    "        if a != 0:\n",
    "            test_list.append(a)\n",
    "assert len(test_list) == 10\n",
    "###BEGIN TEST"
   ]
  },
  {
   "cell_type": "code",
   "execution_count": 20,
   "metadata": {},
   "outputs": [],
   "source": [
    "###BEGIN TEST\n",
    "test8=[\n",
    "    [2048, 1024,0, 0],\n",
    "    [16, 8, 8, 4],\n",
    "    [512, 1024,2, 2],\n",
    "    [64, 2, 128, 64]\n",
    "]\n",
    "assert game_results_before_next(test8) == 'Win'\n",
    "###BEGIN TEST"
   ]
  },
  {
   "cell_type": "code",
   "execution_count": 21,
   "metadata": {},
   "outputs": [],
   "source": [
    "###BEGIN TEST\n",
    "test9=[\n",
    "    [16, 1024,0, 0],\n",
    "    [16, 8, 8, 4],\n",
    "    [512, 1024,2, 2],\n",
    "    [64, 2, 128, 64]\n",
    "]\n",
    "assert game_results_before_next(test9) == 'TBD'\n",
    "###BEGIN TEST"
   ]
  },
  {
   "cell_type": "code",
   "execution_count": 22,
   "metadata": {},
   "outputs": [],
   "source": [
    "###BEGIN TEST\n",
    "test10=[\n",
    "    [16, 1024,4, 2],\n",
    "    [16, 8, 8, 4],\n",
    "    [512, 1024,4, 2],\n",
    "    [64, 2, 128, 64]\n",
    "]\n",
    "assert game_results_before_next(test10) == 'TBD'\n",
    "###BEGIN TEST"
   ]
  },
  {
   "cell_type": "code",
   "execution_count": 23,
   "metadata": {},
   "outputs": [],
   "source": [
    "###BEGIN TEST\n",
    "test11=[\n",
    "    [16, 1024,8, 2],\n",
    "    [64, 32, 8, 4],\n",
    "    [512, 1024,2, 8],\n",
    "    [64, 2, 128, 64]\n",
    "]\n",
    "assert game_results_before_next(test11) == 'TBD'\n",
    "###BEGIN TEST"
   ]
  },
  {
   "cell_type": "code",
   "execution_count": 24,
   "metadata": {},
   "outputs": [],
   "source": [
    "###BEGIN TEST\n",
    "test12=[\n",
    "    [16, 1024,16, 2],\n",
    "    [64, 32, 8, 4],\n",
    "    [512, 1024,2, 8],\n",
    "    [64, 2, 128, 64]\n",
    "]\n",
    "assert game_results_before_next(test12) == 'Lose'\n",
    "###BEGIN TEST"
   ]
  },
  {
   "cell_type": "code",
   "execution_count": 25,
   "metadata": {},
   "outputs": [],
   "source": [
    "###BEGIN TEST\n",
    "test13=[\n",
    "    [16, 64,16, 2],\n",
    "    [32, 16, 8, 4],\n",
    "    [512, 1024,2, 8],\n",
    "    [16, 2, 32, 64]\n",
    "]\n",
    "assert game_results_before_next(test13) == 'Lose'\n",
    "###BEGIN TEST"
   ]
  },
  {
   "cell_type": "code",
   "execution_count": 26,
   "metadata": {},
   "outputs": [],
   "source": [
    "###BEGIN TEST\n",
    "test14=[\n",
    "    [16, 1024,0, 0],\n",
    "    [16, 8, 8, 4],\n",
    "    [512, 2048,2, 2],\n",
    "    [64, 2, 128, 64]\n",
    "]\n",
    "assert game_results_before_next(test14) == 'Win'\n",
    "###BEGIN TEST"
   ]
  },
  {
   "cell_type": "code",
   "execution_count": null,
   "metadata": {},
   "outputs": [],
   "source": []
  }
 ],
 "metadata": {
  "kernelspec": {
   "display_name": "Python 3",
   "language": "python",
   "name": "python3"
  },
  "language_info": {
   "codemirror_mode": {
    "name": "ipython",
    "version": 3
   },
   "file_extension": ".py",
   "mimetype": "text/x-python",
   "name": "python",
   "nbconvert_exporter": "python",
   "pygments_lexer": "ipython3",
   "version": "3.6.3"
  }
 },
 "nbformat": 4,
 "nbformat_minor": 2
}
