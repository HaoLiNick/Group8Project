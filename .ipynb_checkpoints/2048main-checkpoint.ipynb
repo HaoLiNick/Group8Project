{
 "cells": [
  {
   "cell_type": "code",
   "execution_count": 1,
   "metadata": {},
   "outputs": [],
   "source": [
    "from random import *"
   ]
  },
  {
   "cell_type": "code",
   "execution_count": 2,
   "metadata": {},
   "outputs": [],
   "source": [
    "##Initial Matrix##\n",
    "def initial_matrix():\n",
    "    return [[0,0,0,0] for i in range(4)]"
   ]
  },
  {
   "cell_type": "code",
   "execution_count": 3,
   "metadata": {},
   "outputs": [],
   "source": [
    "##Pop out 2##\n",
    "def pop2(matrix):\n",
    "    row=randint(0,3)\n",
    "    col=randint(0,3)\n",
    "    while(matrix[row][col]!=0):\n",
    "        row=randint(0,3)\n",
    "        col=randint(0,3)\n",
    "    matrix[row][col]=2\n",
    "    return matrix"
   ]
  },
  {
   "cell_type": "code",
   "execution_count": 4,
   "metadata": {},
   "outputs": [],
   "source": [
    "##Pop out 4##\n",
    "def pop4(matrix):\n",
    "    row=randint(0,3)\n",
    "    col=randint(0,3)\n",
    "    while(matrix[row][col]!=0):\n",
    "        row=randint(0,3)\n",
    "        col=randint(0,3)\n",
    "    matrix[row][col]=4\n",
    "    return matrix"
   ]
  },
  {
   "cell_type": "code",
   "execution_count": 5,
   "metadata": {},
   "outputs": [],
   "source": [
    "##Game Results Before the Next Move##\n",
    "\n",
    "\"\"\"There are only 3 results before the next move,\n",
    "   They are won, lost, TBD.\n",
    "   The game_state function check for the result before \n",
    "   the next move, returning the results\"\"\"\n",
    "\n",
    "def game_results_before_next(matrix):\n",
    "    \n",
    "    #check for winning\n",
    "    for i in range(4):\n",
    "        for j in range(4):\n",
    "            if matrix[i][j]==2048:\n",
    "                return \"Win\"\n",
    "    \n",
    "    #check for TBD:\n",
    "        # 1) if there is still a zero box, not yet\n",
    "    for i in range(4):\n",
    "        for j in range(4):\n",
    "            if matrix[i][j]==0:\n",
    "                return \"TBD\"\n",
    "        \n",
    "        # 2) if there are same number above,or on the right, not yet\n",
    "    for i in range(3):\n",
    "        for j in range(3):\n",
    "            if matrix[i][j]==matrix[i+1][j] or matrix[i][j]==matrix[i][j+1]:\n",
    "                return \"TBD\"\n",
    "        \n",
    "        # 3) But the last row or col has not been checked in 2)\n",
    "            \n",
    "            #check for the last row:\n",
    "    for i in range(3):\n",
    "        if matrix[3][i]==matrix[3][i+1]:\n",
    "            return \"TBD\"\n",
    "        \n",
    "            #check for the last col:\n",
    "    for i in range(3):\n",
    "        if matrix[i][3]==matrix[i+1][3]:\n",
    "            return \"TBD\"\n",
    "        \n",
    "        # 4) check for losing\n",
    "    return \"Lose\""
   ]
  },
  {
   "cell_type": "code",
   "execution_count": 1,
   "metadata": {},
   "outputs": [],
   "source": [
    "def decide2_4():\n",
    "    if randint(0,1)==1:\n",
    "        pop2(matrix)\n",
    "    else:\n",
    "        pop4(matrix)"
   ]
  },
  {
   "cell_type": "code",
   "execution_count": null,
   "metadata": {},
   "outputs": [],
   "source": []
  }
 ],
 "metadata": {
  "kernelspec": {
   "display_name": "Python 3",
   "language": "python",
   "name": "python3"
  },
  "language_info": {
   "codemirror_mode": {
    "name": "ipython",
    "version": 3
   },
   "file_extension": ".py",
   "mimetype": "text/x-python",
   "name": "python",
   "nbconvert_exporter": "python",
   "pygments_lexer": "ipython3",
   "version": "3.6.3"
  }
 },
 "nbformat": 4,
 "nbformat_minor": 2
}
