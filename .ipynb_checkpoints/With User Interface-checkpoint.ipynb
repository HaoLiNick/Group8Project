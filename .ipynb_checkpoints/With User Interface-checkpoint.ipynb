{
 "cells": [
  {
   "cell_type": "code",
   "execution_count": 93,
   "metadata": {},
   "outputs": [],
   "source": [
    "from random import *"
   ]
  },
  {
   "cell_type": "code",
   "execution_count": 94,
   "metadata": {},
   "outputs": [],
   "source": [
    "##Initial Matrix##\n",
    "def initial_matrix():\n",
    "    return [[0,0,0,0] for i in range(4)]"
   ]
  },
  {
   "cell_type": "code",
   "execution_count": 22,
   "metadata": {},
   "outputs": [],
   "source": [
    "gamematrix=initial_matrix()"
   ]
  },
  {
   "cell_type": "code",
   "execution_count": 23,
   "metadata": {},
   "outputs": [
    {
     "data": {
      "text/plain": [
       "[[0, 0, 0, 0], [0, 0, 0, 0], [0, 0, 0, 0], [0, 0, 0, 0]]"
      ]
     },
     "execution_count": 23,
     "metadata": {},
     "output_type": "execute_result"
    }
   ],
   "source": [
    "gamematrix"
   ]
  },
  {
   "cell_type": "code",
   "execution_count": 95,
   "metadata": {},
   "outputs": [],
   "source": [
    "def display(v):\n",
    "        '''显示界面\n",
    "        '''\n",
    "        print('{0:4} {1:4} {2:4} {3:4}'.format(v[0][0], v[0][1], v[0][2], v[0][3]))\n",
    "        print('{0:4} {1:4} {2:4} {3:4}'.format(v[1][0], v[1][1], v[1][2], v[1][3]))\n",
    "        print('{0:4} {1:4} {2:4} {3:4}'.format(v[2][0], v[2][1], v[2][2], v[2][3]))\n",
    "        print('{0:4} {1:4} {2:4} {3:4}'.format(v[3][0], v[3][1], v[3][2], v[3][3]))"
   ]
  },
  {
   "cell_type": "code",
   "execution_count": 12,
   "metadata": {},
   "outputs": [
    {
     "name": "stdout",
     "output_type": "stream",
     "text": [
      "   0    0    0    0\n",
      "   0    0    0    0\n",
      "   0    0    0    0\n",
      "   0    0    0    0\n"
     ]
    }
   ],
   "source": [
    "display(gamematrix)"
   ]
  },
  {
   "cell_type": "code",
   "execution_count": 96,
   "metadata": {},
   "outputs": [],
   "source": [
    "##Pop out 2##\n",
    "def pop2(matrix):\n",
    "    row=randint(0,3)\n",
    "    col=randint(0,3)\n",
    "    while(matrix[row][col]!=0):\n",
    "        row=randint(0,3)\n",
    "        col=randint(0,3)\n",
    "    matrix[row][col]=2\n",
    "    #return matrix"
   ]
  },
  {
   "cell_type": "code",
   "execution_count": 13,
   "metadata": {},
   "outputs": [
    {
     "name": "stdout",
     "output_type": "stream",
     "text": [
      "   0    0    0    0\n",
      "   2    0    0    0\n",
      "   0    0    0    0\n",
      "   0    0    0    0\n"
     ]
    }
   ],
   "source": [
    "pop2(gamematrix)\n",
    "display(gamematrix)"
   ]
  },
  {
   "cell_type": "code",
   "execution_count": 97,
   "metadata": {},
   "outputs": [],
   "source": [
    "##Pop out 4##\n",
    "def pop4(matrix):\n",
    "    row=randint(0,3)\n",
    "    col=randint(0,3)\n",
    "    while(matrix[row][col]!=0):\n",
    "        row=randint(0,3)\n",
    "        col=randint(0,3)\n",
    "    matrix[row][col]=4\n",
    "    #return matrix"
   ]
  },
  {
   "cell_type": "code",
   "execution_count": 15,
   "metadata": {},
   "outputs": [
    {
     "name": "stdout",
     "output_type": "stream",
     "text": [
      "   4    0    0    0\n",
      "   2    0    4    0\n",
      "   0    0    0    0\n",
      "   0    0    0    0\n"
     ]
    }
   ],
   "source": [
    "pop4(gamematrix)\n",
    "display(gamematrix)"
   ]
  },
  {
   "cell_type": "code",
   "execution_count": 98,
   "metadata": {},
   "outputs": [],
   "source": [
    "##Game Results Before the Next Move##\n",
    "\n",
    "\"\"\"There are only 3 results before the next move,\n",
    "   They are won, lost, TBD.\n",
    "   The game_state function check for the result before \n",
    "   the next move, returning the results\"\"\"\n",
    "\n",
    "def game_results_before_next(matrix):\n",
    "    \n",
    "    #check for winning\n",
    "    for i in range(4):\n",
    "        for j in range(4):\n",
    "            if matrix[i][j]==2048:\n",
    "                return \"Win\"\n",
    "    \n",
    "    #check for TBD:\n",
    "        # 1) if there is still a zero box, not yet\n",
    "    for i in range(4):\n",
    "        for j in range(4):\n",
    "            if matrix[i][j]==0:\n",
    "                return \"TBD\"\n",
    "        \n",
    "        # 2) if there are same number above,or on the right, not yet\n",
    "    for i in range(3):\n",
    "        for j in range(3):\n",
    "            if matrix[i][j]==matrix[i+1][j] or matrix[i][j]==matrix[i][j+1]:\n",
    "                return \"TBD\"\n",
    "        \n",
    "        # 3) But the last row or col has not been checked in 2)\n",
    "            \n",
    "            #check for the last row:\n",
    "    for i in range(3):\n",
    "        if matrix[3][i]==matrix[3][i+1]:\n",
    "            return \"TBD\"\n",
    "        \n",
    "            #check for the last col:\n",
    "    for i in range(3):\n",
    "        if matrix[i][3]==matrix[i+1][3]:\n",
    "            return \"TBD\"\n",
    "        \n",
    "        # 4) check for losing\n",
    "    return \"Lose\""
   ]
  },
  {
   "cell_type": "code",
   "execution_count": 99,
   "metadata": {},
   "outputs": [],
   "source": [
    "def decide2or4(matrix):\n",
    "    if randint(0,1)==1:\n",
    "        pop2(matrix)\n",
    "    else:\n",
    "        pop4(matrix)\n",
    "    #display(matrix)"
   ]
  },
  {
   "cell_type": "code",
   "execution_count": 48,
   "metadata": {},
   "outputs": [
    {
     "name": "stdout",
     "output_type": "stream",
     "text": [
      "   2    2    0    2\n",
      "   0    2    0    0\n",
      "   2    0    2    0\n",
      "   0    0    0    2\n"
     ]
    }
   ],
   "source": [
    "decide2or4(gamematrix)"
   ]
  },
  {
   "cell_type": "code",
   "execution_count": 49,
   "metadata": {},
   "outputs": [
    {
     "name": "stdout",
     "output_type": "stream",
     "text": [
      "   2    2    0    2\n",
      "   0    2    0    0\n",
      "   2    0    2    0\n",
      "   0    0    0    2\n"
     ]
    }
   ],
   "source": [
    "display(gamematrix)"
   ]
  },
  {
   "cell_type": "code",
   "execution_count": 43,
   "metadata": {},
   "outputs": [
    {
     "data": {
      "text/plain": [
       "list"
      ]
     },
     "execution_count": 43,
     "metadata": {},
     "output_type": "execute_result"
    }
   ],
   "source": []
  },
  {
   "cell_type": "code",
   "execution_count": 53,
   "metadata": {},
   "outputs": [],
   "source": [
    "def inverse(matrix):\n",
    "    return list(np.array(matrix).T)"
   ]
  },
  {
   "cell_type": "code",
   "execution_count": 54,
   "metadata": {},
   "outputs": [],
   "source": [
    "gamematrix=inverse(gamematrix)"
   ]
  },
  {
   "cell_type": "code",
   "execution_count": 55,
   "metadata": {},
   "outputs": [
    {
     "name": "stdout",
     "output_type": "stream",
     "text": [
      "   2    0    2    0\n",
      "   2    2    0    0\n",
      "   0    0    2    0\n",
      "   2    0    0    2\n"
     ]
    }
   ],
   "source": [
    "display(gamematrix)"
   ]
  },
  {
   "cell_type": "code",
   "execution_count": 60,
   "metadata": {},
   "outputs": [
    {
     "data": {
      "text/plain": [
       "0"
      ]
     },
     "execution_count": 60,
     "metadata": {},
     "output_type": "execute_result"
    }
   ],
   "source": [
    "gamematrix[0][3]"
   ]
  },
  {
   "cell_type": "code",
   "execution_count": 71,
   "metadata": {},
   "outputs": [],
   "source": [
    "gamematrix=list(zip(*gamematrix))#矩阵转置"
   ]
  },
  {
   "cell_type": "code",
   "execution_count": 72,
   "metadata": {},
   "outputs": [
    {
     "data": {
      "text/plain": [
       "[(2, 0, 2, 0), (2, 2, 0, 0), (0, 0, 2, 0), (2, 0, 0, 2)]"
      ]
     },
     "execution_count": 72,
     "metadata": {},
     "output_type": "execute_result"
    }
   ],
   "source": [
    "gamematrix"
   ]
  },
  {
   "cell_type": "code",
   "execution_count": 100,
   "metadata": {},
   "outputs": [],
   "source": [
    "def align(vList, direction):\n",
    "         # 移除列表中的0\n",
    "        for i in range(vList.count(0)):\n",
    "                vList.remove(0)\n",
    "        # 被移除的0\n",
    "        zeros = [0 for x in range(4 - len(vList))]\n",
    "        # 在非0数字的一侧补充0\n",
    "        if direction == 'left':\n",
    "                vList.extend(zeros)\n",
    "        else:\n",
    "                vList[:0] = zeros"
   ]
  },
  {
   "cell_type": "code",
   "execution_count": 74,
   "metadata": {},
   "outputs": [],
   "source": [
    "def merge(vList,direction):\n",
    "    if direction=='left':\n",
    "        for i in range(3):\n",
    "            if vList[i]==vList[i+1]!=0:\n",
    "                vList[i]*=2\n",
    "                vList[i+1]=0\n",
    "                #return True\n",
    "    \n",
    "    else:\n",
    "        for i in [3,2,1]:\n",
    "            if vList[i] == vList[i-1] != 0:\n",
    "                vList[i-1] *= 2\n",
    "                vList[i] = 0\n",
    "                score += vList[i-1]\n",
    "                #return True\n",
    "    #return False"
   ]
  },
  {
   "cell_type": "code",
   "execution_count": 101,
   "metadata": {},
   "outputs": [],
   "source": [
    "def handle(vList,direction):\n",
    "    align(vList,direction)\n",
    "    merge(vList,direction)\n",
    "    "
   ]
  },
  {
   "cell_type": "code",
   "execution_count": 105,
   "metadata": {},
   "outputs": [],
   "source": [
    "def operation(matrix):\n",
    "    op=input('Operation:')\n",
    "    \n",
    "    if op =='a':\n",
    "        direction='left'\n",
    "        for row in range(4):\n",
    "            handle(matrix[row],direction)\n",
    "            \n",
    "    if op=='d':\n",
    "        direction==right\n",
    "        for row in range(4):\n",
    "            handle(matrix[row],direction)\n",
    "    \n",
    "    if op=='w':\n",
    "        matrix=list(zip(*matrix))\n",
    "        direction='left'\n",
    "        for row in range(4):\n",
    "            handle(matrix[row],direction)\n",
    "        matrix=list(zip(*matrix))\n",
    "    \n",
    "    if op=='s':\n",
    "        matrix=list(zip(*matrix))\n",
    "        direction='right'\n",
    "        for row in range(4):\n",
    "            handle(matrix[row],direction)\n",
    "            matrix=list(zip(*matrix))\n",
    "    \n",
    "        \n",
    "        \n",
    "        \n",
    "    "
   ]
  },
  {
   "cell_type": "code",
   "execution_count": 110,
   "metadata": {},
   "outputs": [],
   "source": [
    "def run():\n",
    "    game=initial_matrix()\n",
    "    for i in range(2):\n",
    "        decide2or4(game)\n",
    "    \n",
    "    display(game)\n",
    "    while True:\n",
    "        operation(game)\n",
    "        if game_results_before_next(game)!=\"TBD\":\n",
    "            break\n",
    "        \n",
    "    "
   ]
  },
  {
   "cell_type": "code",
   "execution_count": 111,
   "metadata": {},
   "outputs": [
    {
     "name": "stdout",
     "output_type": "stream",
     "text": [
      "   0    0    0    0\n",
      "   0    0    0    0\n",
      "   0    0    0    0\n",
      "   0    2    0    4\n",
      "Operation:w\n"
     ]
    },
    {
     "ename": "AttributeError",
     "evalue": "'tuple' object has no attribute 'remove'",
     "output_type": "error",
     "traceback": [
      "\u001b[0;31m---------------------------------------------------------------------------\u001b[0m",
      "\u001b[0;31mAttributeError\u001b[0m                            Traceback (most recent call last)",
      "\u001b[0;32m<ipython-input-111-ec9775ede022>\u001b[0m in \u001b[0;36m<module>\u001b[0;34m\u001b[0m\n\u001b[0;32m----> 1\u001b[0;31m \u001b[0mrun\u001b[0m\u001b[0;34m(\u001b[0m\u001b[0;34m)\u001b[0m\u001b[0;34m\u001b[0m\u001b[0m\n\u001b[0m",
      "\u001b[0;32m<ipython-input-110-9b646036d3b1>\u001b[0m in \u001b[0;36mrun\u001b[0;34m()\u001b[0m\n\u001b[1;32m      6\u001b[0m     \u001b[0mdisplay\u001b[0m\u001b[0;34m(\u001b[0m\u001b[0mgame\u001b[0m\u001b[0;34m)\u001b[0m\u001b[0;34m\u001b[0m\u001b[0m\n\u001b[1;32m      7\u001b[0m     \u001b[0;32mwhile\u001b[0m \u001b[0;32mTrue\u001b[0m\u001b[0;34m:\u001b[0m\u001b[0;34m\u001b[0m\u001b[0m\n\u001b[0;32m----> 8\u001b[0;31m         \u001b[0moperation\u001b[0m\u001b[0;34m(\u001b[0m\u001b[0mgame\u001b[0m\u001b[0;34m)\u001b[0m\u001b[0;34m\u001b[0m\u001b[0m\n\u001b[0m\u001b[1;32m      9\u001b[0m         \u001b[0;32mif\u001b[0m \u001b[0mgame_results_before_next\u001b[0m\u001b[0;34m(\u001b[0m\u001b[0mgame\u001b[0m\u001b[0;34m)\u001b[0m\u001b[0;34m!=\u001b[0m\u001b[0;34m\"TBD\"\u001b[0m\u001b[0;34m:\u001b[0m\u001b[0;34m\u001b[0m\u001b[0m\n\u001b[1;32m     10\u001b[0m             \u001b[0;32mbreak\u001b[0m\u001b[0;34m\u001b[0m\u001b[0m\n",
      "\u001b[0;32m<ipython-input-105-d3c922d01a84>\u001b[0m in \u001b[0;36moperation\u001b[0;34m(matrix)\u001b[0m\n\u001b[1;32m     16\u001b[0m         \u001b[0mdirection\u001b[0m\u001b[0;34m=\u001b[0m\u001b[0;34m'left'\u001b[0m\u001b[0;34m\u001b[0m\u001b[0m\n\u001b[1;32m     17\u001b[0m         \u001b[0;32mfor\u001b[0m \u001b[0mrow\u001b[0m \u001b[0;32min\u001b[0m \u001b[0mrange\u001b[0m\u001b[0;34m(\u001b[0m\u001b[0;36m4\u001b[0m\u001b[0;34m)\u001b[0m\u001b[0;34m:\u001b[0m\u001b[0;34m\u001b[0m\u001b[0m\n\u001b[0;32m---> 18\u001b[0;31m             \u001b[0mhandle\u001b[0m\u001b[0;34m(\u001b[0m\u001b[0mmatrix\u001b[0m\u001b[0;34m[\u001b[0m\u001b[0mrow\u001b[0m\u001b[0;34m]\u001b[0m\u001b[0;34m,\u001b[0m\u001b[0mdirection\u001b[0m\u001b[0;34m)\u001b[0m\u001b[0;34m\u001b[0m\u001b[0m\n\u001b[0m\u001b[1;32m     19\u001b[0m         \u001b[0mmatrix\u001b[0m\u001b[0;34m=\u001b[0m\u001b[0mlist\u001b[0m\u001b[0;34m(\u001b[0m\u001b[0mzip\u001b[0m\u001b[0;34m(\u001b[0m\u001b[0;34m*\u001b[0m\u001b[0mmatrix\u001b[0m\u001b[0;34m)\u001b[0m\u001b[0;34m)\u001b[0m\u001b[0;34m\u001b[0m\u001b[0m\n\u001b[1;32m     20\u001b[0m \u001b[0;34m\u001b[0m\u001b[0m\n",
      "\u001b[0;32m<ipython-input-101-c298de423747>\u001b[0m in \u001b[0;36mhandle\u001b[0;34m(vList, direction)\u001b[0m\n\u001b[1;32m      1\u001b[0m \u001b[0;32mdef\u001b[0m \u001b[0mhandle\u001b[0m\u001b[0;34m(\u001b[0m\u001b[0mvList\u001b[0m\u001b[0;34m,\u001b[0m\u001b[0mdirection\u001b[0m\u001b[0;34m)\u001b[0m\u001b[0;34m:\u001b[0m\u001b[0;34m\u001b[0m\u001b[0m\n\u001b[0;32m----> 2\u001b[0;31m     \u001b[0malign\u001b[0m\u001b[0;34m(\u001b[0m\u001b[0mvList\u001b[0m\u001b[0;34m,\u001b[0m\u001b[0mdirection\u001b[0m\u001b[0;34m)\u001b[0m\u001b[0;34m\u001b[0m\u001b[0m\n\u001b[0m\u001b[1;32m      3\u001b[0m     \u001b[0mmerge\u001b[0m\u001b[0;34m(\u001b[0m\u001b[0mvList\u001b[0m\u001b[0;34m,\u001b[0m\u001b[0mdirection\u001b[0m\u001b[0;34m)\u001b[0m\u001b[0;34m\u001b[0m\u001b[0m\n\u001b[1;32m      4\u001b[0m \u001b[0;34m\u001b[0m\u001b[0m\n",
      "\u001b[0;32m<ipython-input-100-8f5e2ca171d0>\u001b[0m in \u001b[0;36malign\u001b[0;34m(vList, direction)\u001b[0m\n\u001b[1;32m      2\u001b[0m          \u001b[0;31m# 移除列表中的0\u001b[0m\u001b[0;34m\u001b[0m\u001b[0;34m\u001b[0m\u001b[0m\n\u001b[1;32m      3\u001b[0m         \u001b[0;32mfor\u001b[0m \u001b[0mi\u001b[0m \u001b[0;32min\u001b[0m \u001b[0mrange\u001b[0m\u001b[0;34m(\u001b[0m\u001b[0mvList\u001b[0m\u001b[0;34m.\u001b[0m\u001b[0mcount\u001b[0m\u001b[0;34m(\u001b[0m\u001b[0;36m0\u001b[0m\u001b[0;34m)\u001b[0m\u001b[0;34m)\u001b[0m\u001b[0;34m:\u001b[0m\u001b[0;34m\u001b[0m\u001b[0m\n\u001b[0;32m----> 4\u001b[0;31m                 \u001b[0mvList\u001b[0m\u001b[0;34m.\u001b[0m\u001b[0mremove\u001b[0m\u001b[0;34m(\u001b[0m\u001b[0;36m0\u001b[0m\u001b[0;34m)\u001b[0m\u001b[0;34m\u001b[0m\u001b[0m\n\u001b[0m\u001b[1;32m      5\u001b[0m         \u001b[0;31m# 被移除的0\u001b[0m\u001b[0;34m\u001b[0m\u001b[0;34m\u001b[0m\u001b[0m\n\u001b[1;32m      6\u001b[0m         \u001b[0mzeros\u001b[0m \u001b[0;34m=\u001b[0m \u001b[0;34m[\u001b[0m\u001b[0;36m0\u001b[0m \u001b[0;32mfor\u001b[0m \u001b[0mx\u001b[0m \u001b[0;32min\u001b[0m \u001b[0mrange\u001b[0m\u001b[0;34m(\u001b[0m\u001b[0;36m4\u001b[0m \u001b[0;34m-\u001b[0m \u001b[0mlen\u001b[0m\u001b[0;34m(\u001b[0m\u001b[0mvList\u001b[0m\u001b[0;34m)\u001b[0m\u001b[0;34m)\u001b[0m\u001b[0;34m]\u001b[0m\u001b[0;34m\u001b[0m\u001b[0m\n",
      "\u001b[0;31mAttributeError\u001b[0m: 'tuple' object has no attribute 'remove'"
     ]
    }
   ],
   "source": [
    "run()"
   ]
  },
  {
   "cell_type": "code",
   "execution_count": null,
   "metadata": {},
   "outputs": [],
   "source": []
  }
 ],
 "metadata": {
  "kernelspec": {
   "display_name": "Python 3",
   "language": "python",
   "name": "python3"
  },
  "language_info": {
   "codemirror_mode": {
    "name": "ipython",
    "version": 3
   },
   "file_extension": ".py",
   "mimetype": "text/x-python",
   "name": "python",
   "nbconvert_exporter": "python",
   "pygments_lexer": "ipython3",
   "version": "3.6.3"
  }
 },
 "nbformat": 4,
 "nbformat_minor": 2
}
